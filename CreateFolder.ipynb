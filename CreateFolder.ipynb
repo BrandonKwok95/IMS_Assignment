{
 "cells": [
  {
   "cell_type": "code",
   "execution_count": 5,
   "metadata": {},
   "outputs": [],
   "source": [
    "import os"
   ]
  },
  {
   "cell_type": "code",
   "execution_count": 6,
   "metadata": {},
   "outputs": [],
   "source": [
    "# create the frame of the project\n",
    "\n",
    "# store source video\n",
    "os.mkdir('./source-video')\n",
    "#store video formant json file\n",
    "os.mkdir('./video-format')\n",
    "#store video quality json file\n",
    "os.mkdir('./vmaf')"
   ]
  },
  {
   "cell_type": "code",
   "execution_count": 7,
   "metadata": {},
   "outputs": [],
   "source": [
    "# store encoded video\n",
    "os.mkdir('./encode-video')\n",
    "os.mkdir('./encode-video/libx264')\n",
    "os.mkdir('./encode-video/libx265')\n",
    "os.mkdir('./encode-video/qp')\n",
    "os.mkdir('./encode-video/preset')\n",
    "os.mkdir('./encode-video/mtu')"
   ]
  },
  {
   "cell_type": "code",
   "execution_count": null,
   "metadata": {},
   "outputs": [],
   "source": []
  }
 ],
 "metadata": {
  "kernelspec": {
   "display_name": "Python 3",
   "language": "python",
   "name": "python3"
  },
  "language_info": {
   "codemirror_mode": {
    "name": "ipython",
    "version": 3
   },
   "file_extension": ".py",
   "mimetype": "text/x-python",
   "name": "python",
   "nbconvert_exporter": "python",
   "pygments_lexer": "ipython3",
   "version": "3.7.3"
  }
 },
 "nbformat": 4,
 "nbformat_minor": 2
}
