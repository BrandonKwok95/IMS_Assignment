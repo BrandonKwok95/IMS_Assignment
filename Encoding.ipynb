{
 "cells": [
  {
   "cell_type": "code",
   "execution_count": 2,
   "metadata": {},
   "outputs": [],
   "source": [
    "import json\n",
    "import os\n",
    "import matplotlib.pyplot as plt  \n",
    "import numpy as np"
   ]
  },
  {
   "cell_type": "markdown",
   "metadata": {},
   "source": [
    "# 1 Comparison between x264 & x265"
   ]
  },
  {
   "cell_type": "code",
   "execution_count": 12,
   "metadata": {},
   "outputs": [],
   "source": [
    "def encoder(source_video_file,codec_model):\n",
    "    #example video.y4m\n",
    "    #seperate filename(video) and fileext(.yvm)\n",
    "    filename,fileext = os.path.splitext(source_video_file)\n",
    "    #(example)./ffmpeg -i ./source-video/bus_cif.y4m -c:v libx264 ./encode-video/libx264/bus_cif_libx264.mp4\n",
    "    input_command = './ffmpeg -i ./source-video/'\n",
    "    output_directory = ' ./encode-video/'+ codec_model\n",
    "    output_filename = '/' + filename + '_' +codec_model+ '.mp4'\n",
    "    command = input_command + source_video_file + ' -c:v ' + codec_model + output_directory + output_filename\n",
    "    #print(command)\n",
    "    os.system(command)\n",
    "    "
   ]
  },
  {
   "cell_type": "code",
   "execution_count": 4,
   "metadata": {},
   "outputs": [],
   "source": [
    "#using x264 and x265 encoding the source video\n",
    "source_video = os.listdir('./source-video')\n",
    "\n",
    "for file in source_video:\n",
    "    encoder(file,'libx264')\n",
    "    encoder(file,'libx265')"
   ]
  },
  {
   "cell_type": "code",
   "execution_count": 6,
   "metadata": {},
   "outputs": [],
   "source": [
    "# Get encoded video quality (including vmaf, ssim, psnr) by ffmpeg and encoded video formant by ffprobe\n",
    "# After run this function, you can get two json file about video quality and video format\n",
    "def getVmaf(source_video_file, codec_model):\n",
    "    filename,fileext = os.path.splitext(source_video_file)\n",
    "    #get video quality\n",
    "    #./ffmpeg -i ./encode-video/libx264/bus_cif_libx264.mp4 -i ./source-video/bus_cif.y4m -lavfi libvmaf=\"model_path=./model/vmaf_v0.6.1.pkl: psnr=1:ms_ssim=1:ssim=1:log_fmt=json:log_path= ./vmaf/bus_cif_libx264_vmaf.json\" -f null -\n",
    "    command_vmaf = './ffmpeg -i ./encode-video/'+ codec_model +'/'+ filename + '_' + codec_model +'.mp4' +' -i ./source-video/' + source_video_file + ' -lavfi libvmaf=\"model_path=./model/vmaf_v0.6.1.pkl: psnr=1:ms_ssim=1:ssim=1:log_fmt=json:log_path= ./vmaf/' + filename + '_' + codec_model + '_vmaf.json\" -f null -'\n",
    "    \n",
    "    #get encoded video format (file size and )\n",
    "    #./ffprobe -v quiet -print_format json -show_format ./encode-video/libx264/bus_cif_libx264.mp4 >> ./video-format/bus_cif_libx264_format.json\n",
    "    command_format = './ffprobe -v quiet -print_format json -show_format ./encode-video/' + codec_model + '/' + filename + '_' + codec_model + '.mp4 >> ./video-format/'+ filename + '_' + codec_model +'_format.json'\n",
    "    \n",
    "    print(command_vmaf)\n",
    "    print(command_format)\n",
    "    os.system(command_vmaf)\n",
    "    os.system(command_format)\n",
    "    "
   ]
  },
  {
   "cell_type": "code",
   "execution_count": 3,
   "metadata": {},
   "outputs": [
    {
     "name": "stdout",
     "output_type": "stream",
     "text": [
      "['LakeDuck.y4m', 'ParkJoy.y4m', 'CSGO.y4m', 'WestWind.y4m', 'HouseBurn.y4m']\n"
     ]
    }
   ],
   "source": [
    "source_video = os.listdir('./source-video')\n",
    "print(source_video)"
   ]
  },
  {
   "cell_type": "code",
   "execution_count": 9,
   "metadata": {},
   "outputs": [
    {
     "name": "stdout",
     "output_type": "stream",
     "text": [
      "./ffmpeg -i ./encode-video/libx264/LakeDuck_libx264.mp4 -i ./source-video/LakeDuck.y4m -lavfi libvmaf=\"model_path=./model/vmaf_v0.6.1.pkl: psnr=1:ms_ssim=1:ssim=1:log_fmt=json:log_path= ./vmaf/LakeDuck_libx264_vmaf.json\" -f null -\n",
      "./ffprobe -v quiet -print_format json -show_format ./encode-video/libx264/LakeDuck_libx264.mp4 >> ./video-format/LakeDuck_libx264_format.json\n",
      "./ffmpeg -i ./encode-video/libx265/LakeDuck_libx265.mp4 -i ./source-video/LakeDuck.y4m -lavfi libvmaf=\"model_path=./model/vmaf_v0.6.1.pkl: psnr=1:ms_ssim=1:ssim=1:log_fmt=json:log_path= ./vmaf/LakeDuck_libx265_vmaf.json\" -f null -\n",
      "./ffprobe -v quiet -print_format json -show_format ./encode-video/libx265/LakeDuck_libx265.mp4 >> ./video-format/LakeDuck_libx265_format.json\n",
      "./ffmpeg -i ./encode-video/libx264/ParkJoy_libx264.mp4 -i ./source-video/ParkJoy.y4m -lavfi libvmaf=\"model_path=./model/vmaf_v0.6.1.pkl: psnr=1:ms_ssim=1:ssim=1:log_fmt=json:log_path= ./vmaf/ParkJoy_libx264_vmaf.json\" -f null -\n",
      "./ffprobe -v quiet -print_format json -show_format ./encode-video/libx264/ParkJoy_libx264.mp4 >> ./video-format/ParkJoy_libx264_format.json\n",
      "./ffmpeg -i ./encode-video/libx265/ParkJoy_libx265.mp4 -i ./source-video/ParkJoy.y4m -lavfi libvmaf=\"model_path=./model/vmaf_v0.6.1.pkl: psnr=1:ms_ssim=1:ssim=1:log_fmt=json:log_path= ./vmaf/ParkJoy_libx265_vmaf.json\" -f null -\n",
      "./ffprobe -v quiet -print_format json -show_format ./encode-video/libx265/ParkJoy_libx265.mp4 >> ./video-format/ParkJoy_libx265_format.json\n",
      "./ffmpeg -i ./encode-video/libx264/CSGO_libx264.mp4 -i ./source-video/CSGO.y4m -lavfi libvmaf=\"model_path=./model/vmaf_v0.6.1.pkl: psnr=1:ms_ssim=1:ssim=1:log_fmt=json:log_path= ./vmaf/CSGO_libx264_vmaf.json\" -f null -\n",
      "./ffprobe -v quiet -print_format json -show_format ./encode-video/libx264/CSGO_libx264.mp4 >> ./video-format/CSGO_libx264_format.json\n",
      "./ffmpeg -i ./encode-video/libx265/CSGO_libx265.mp4 -i ./source-video/CSGO.y4m -lavfi libvmaf=\"model_path=./model/vmaf_v0.6.1.pkl: psnr=1:ms_ssim=1:ssim=1:log_fmt=json:log_path= ./vmaf/CSGO_libx265_vmaf.json\" -f null -\n",
      "./ffprobe -v quiet -print_format json -show_format ./encode-video/libx265/CSGO_libx265.mp4 >> ./video-format/CSGO_libx265_format.json\n",
      "./ffmpeg -i ./encode-video/libx264/WestWind_libx264.mp4 -i ./source-video/WestWind.y4m -lavfi libvmaf=\"model_path=./model/vmaf_v0.6.1.pkl: psnr=1:ms_ssim=1:ssim=1:log_fmt=json:log_path= ./vmaf/WestWind_libx264_vmaf.json\" -f null -\n",
      "./ffprobe -v quiet -print_format json -show_format ./encode-video/libx264/WestWind_libx264.mp4 >> ./video-format/WestWind_libx264_format.json\n",
      "./ffmpeg -i ./encode-video/libx265/WestWind_libx265.mp4 -i ./source-video/WestWind.y4m -lavfi libvmaf=\"model_path=./model/vmaf_v0.6.1.pkl: psnr=1:ms_ssim=1:ssim=1:log_fmt=json:log_path= ./vmaf/WestWind_libx265_vmaf.json\" -f null -\n",
      "./ffprobe -v quiet -print_format json -show_format ./encode-video/libx265/WestWind_libx265.mp4 >> ./video-format/WestWind_libx265_format.json\n",
      "./ffmpeg -i ./encode-video/libx264/HouseBurn_libx264.mp4 -i ./source-video/HouseBurn.y4m -lavfi libvmaf=\"model_path=./model/vmaf_v0.6.1.pkl: psnr=1:ms_ssim=1:ssim=1:log_fmt=json:log_path= ./vmaf/HouseBurn_libx264_vmaf.json\" -f null -\n",
      "./ffprobe -v quiet -print_format json -show_format ./encode-video/libx264/HouseBurn_libx264.mp4 >> ./video-format/HouseBurn_libx264_format.json\n",
      "./ffmpeg -i ./encode-video/libx265/HouseBurn_libx265.mp4 -i ./source-video/HouseBurn.y4m -lavfi libvmaf=\"model_path=./model/vmaf_v0.6.1.pkl: psnr=1:ms_ssim=1:ssim=1:log_fmt=json:log_path= ./vmaf/HouseBurn_libx265_vmaf.json\" -f null -\n",
      "./ffprobe -v quiet -print_format json -show_format ./encode-video/libx265/HouseBurn_libx265.mp4 >> ./video-format/HouseBurn_libx265_format.json\n"
     ]
    }
   ],
   "source": [
    "#encoding all source videos through libx264 & libx265\n",
    "source_video = os.listdir('./source-video')\n",
    "for file in source_video:\n",
    "    getVmaf(file,'libx264')\n",
    "    getVmaf(file,'libx265')"
   ]
  },
  {
   "cell_type": "code",
   "execution_count": 7,
   "metadata": {},
   "outputs": [
    {
     "name": "stdout",
     "output_type": "stream",
     "text": [
      "99.78640117012743\n",
      "97.35027670386803\n"
     ]
    }
   ],
   "source": [
    "#it can check video quality by related json file\n",
    "#x264——vmaf\n",
    "with open(\"./vmaf/bus_cif_libx264_vmaf.json\", 'r') as f:\n",
    "    temp = json.loads(f.read())\n",
    "    print(temp['VMAF score'])\n",
    "    #print(temp['ExecFps'])\n",
    "    #print(temp['PSNR score'])\n",
    "    #print(temp['SSIM score'])\n",
    "    #print(temp['MS-SSIM score'])  \n",
    "    \n",
    "#x265——vmaf    \n",
    "with open(\"./vmaf/bus_cif_libx265_vmaf.json\", 'r') as f:\n",
    "    temp = json.loads(f.read())\n",
    "    print(temp['VMAF score'])"
   ]
  },
  {
   "cell_type": "code",
   "execution_count": 8,
   "metadata": {},
   "outputs": [
    {
     "name": "stdout",
     "output_type": "stream",
     "text": [
      "776504\n",
      "499182\n"
     ]
    }
   ],
   "source": [
    "# it can get bit rate and file-size from related json file\n",
    "#x264\n",
    "with open(\"./video-format/bus_cif_libx264_format.json\", 'r') as f:\n",
    "    test = json.loads(f.read())\n",
    "    print(test['format']['bit_rate'])\n",
    "    #print(test['format']['size'])\n",
    "    \n",
    "#x265\n",
    "with open(\"./video-format/bus_cif_libx265_format.json\", 'r') as f:\n",
    "    test = json.loads(f.read())\n",
    "    print(test['format']['bit_rate'])"
   ]
  },
  {
   "cell_type": "markdown",
   "metadata": {},
   "source": [
    "# 2 Comparison of Preset"
   ]
  },
  {
   "cell_type": "code",
   "execution_count": null,
   "metadata": {},
   "outputs": [],
   "source": [
    "# it can change parameters (preset,ctu,&qp) through below cmaand\n",
    "#./ffmpeg -i ./source-video/bus_cif.y4m -c:v libx264 -preset veryslow -crf 18 test.mp4\n",
    "\n",
    "#./ffmpeg -i ./source-video/bus_cif.y4m -c:v libx265 -x265-params \"ctu=16:qp=0\" test_16qp.mp4;  \n"
   ]
  },
  {
   "cell_type": "code",
   "execution_count": null,
   "metadata": {},
   "outputs": [],
   "source": [
    "#Maximum coding unit(height/width)  (64,32,16)       -ctu\n",
    "#Quad tree TU log2 min/max          (2,3,4,5)        -max-tu-size\n",
    "#Quantization parameter             (0-51)           -crf/ -qp\n",
    "#partition depth(intra)             (1,2,3,4)        -tu-intra-depth"
   ]
  },
  {
   "cell_type": "code",
   "execution_count": 2,
   "metadata": {},
   "outputs": [],
   "source": [
    "def encoder_preset(source_video_file,preset):\n",
    "    filename,fileext = os.path.splitext(source_video_file)\n",
    "    #command example: ./ffmpeg -i ./source-video/bus_cif.y4m -c:v libx265 -preset veryslow ./encode-video/preset/test.mp4\n",
    "    input_command = './ffmpeg -i ./source-video/'\n",
    "    output_directory = ' ./encode-video/'+ 'preset'\n",
    "    output_filename = '/' + filename + '_' +preset+ '.mp4'\n",
    "    command = input_command + source_video_file + ' -c:v ' + 'libx265' + ' -preset ' + preset + output_directory + output_filename\n",
    "    print(command)\n",
    "    os.system(command)\n",
    "    "
   ]
  },
  {
   "cell_type": "markdown",
   "metadata": {},
   "source": [
    "The presets adjust encoder parameters as shown in the following table. Any parameters below that are specified in your command-line will be changed from the value specified by the preset.\n",
    "\n",
    "1. superfast\n",
    "2. veryfast\n",
    "3. faster\n",
    "4. fast\n",
    "5. medium (default)\n",
    "6. slow\n",
    "7. slower\n",
    "8. veryslow"
   ]
  },
  {
   "cell_type": "code",
   "execution_count": 6,
   "metadata": {},
   "outputs": [],
   "source": [
    "preset_set = ['slower','medium','fast','faster','superfast','ultrafast']"
   ]
  },
  {
   "cell_type": "code",
   "execution_count": 4,
   "metadata": {},
   "outputs": [
    {
     "name": "stdout",
     "output_type": "stream",
     "text": [
      "./ffmpeg -i ./source-video/LakeDuck.y4m -c:v libx265 -preset slower ./encode-video/preset/LakeDuck_slower.mp4\n",
      "./ffmpeg -i ./source-video/LakeDuck.y4m -c:v libx265 -preset medium ./encode-video/preset/LakeDuck_medium.mp4\n",
      "./ffmpeg -i ./source-video/LakeDuck.y4m -c:v libx265 -preset fast ./encode-video/preset/LakeDuck_fast.mp4\n",
      "./ffmpeg -i ./source-video/LakeDuck.y4m -c:v libx265 -preset faster ./encode-video/preset/LakeDuck_faster.mp4\n",
      "./ffmpeg -i ./source-video/LakeDuck.y4m -c:v libx265 -preset superfast ./encode-video/preset/LakeDuck_superfast.mp4\n",
      "./ffmpeg -i ./source-video/LakeDuck.y4m -c:v libx265 -preset ultrafast ./encode-video/preset/LakeDuck_ultrafast.mp4\n",
      "./ffmpeg -i ./source-video/ParkJoy.y4m -c:v libx265 -preset slower ./encode-video/preset/ParkJoy_slower.mp4\n",
      "./ffmpeg -i ./source-video/ParkJoy.y4m -c:v libx265 -preset medium ./encode-video/preset/ParkJoy_medium.mp4\n",
      "./ffmpeg -i ./source-video/ParkJoy.y4m -c:v libx265 -preset fast ./encode-video/preset/ParkJoy_fast.mp4\n",
      "./ffmpeg -i ./source-video/ParkJoy.y4m -c:v libx265 -preset faster ./encode-video/preset/ParkJoy_faster.mp4\n",
      "./ffmpeg -i ./source-video/ParkJoy.y4m -c:v libx265 -preset superfast ./encode-video/preset/ParkJoy_superfast.mp4\n",
      "./ffmpeg -i ./source-video/ParkJoy.y4m -c:v libx265 -preset ultrafast ./encode-video/preset/ParkJoy_ultrafast.mp4\n",
      "./ffmpeg -i ./source-video/CSGO.y4m -c:v libx265 -preset slower ./encode-video/preset/CSGO_slower.mp4\n",
      "./ffmpeg -i ./source-video/CSGO.y4m -c:v libx265 -preset medium ./encode-video/preset/CSGO_medium.mp4\n",
      "./ffmpeg -i ./source-video/CSGO.y4m -c:v libx265 -preset fast ./encode-video/preset/CSGO_fast.mp4\n",
      "./ffmpeg -i ./source-video/CSGO.y4m -c:v libx265 -preset faster ./encode-video/preset/CSGO_faster.mp4\n",
      "./ffmpeg -i ./source-video/CSGO.y4m -c:v libx265 -preset superfast ./encode-video/preset/CSGO_superfast.mp4\n",
      "./ffmpeg -i ./source-video/CSGO.y4m -c:v libx265 -preset ultrafast ./encode-video/preset/CSGO_ultrafast.mp4\n",
      "./ffmpeg -i ./source-video/WestWind.y4m -c:v libx265 -preset slower ./encode-video/preset/WestWind_slower.mp4\n",
      "./ffmpeg -i ./source-video/WestWind.y4m -c:v libx265 -preset medium ./encode-video/preset/WestWind_medium.mp4\n",
      "./ffmpeg -i ./source-video/WestWind.y4m -c:v libx265 -preset fast ./encode-video/preset/WestWind_fast.mp4\n",
      "./ffmpeg -i ./source-video/WestWind.y4m -c:v libx265 -preset faster ./encode-video/preset/WestWind_faster.mp4\n",
      "./ffmpeg -i ./source-video/WestWind.y4m -c:v libx265 -preset superfast ./encode-video/preset/WestWind_superfast.mp4\n",
      "./ffmpeg -i ./source-video/WestWind.y4m -c:v libx265 -preset ultrafast ./encode-video/preset/WestWind_ultrafast.mp4\n",
      "./ffmpeg -i ./source-video/HouseBurn.y4m -c:v libx265 -preset slower ./encode-video/preset/HouseBurn_slower.mp4\n",
      "./ffmpeg -i ./source-video/HouseBurn.y4m -c:v libx265 -preset medium ./encode-video/preset/HouseBurn_medium.mp4\n",
      "./ffmpeg -i ./source-video/HouseBurn.y4m -c:v libx265 -preset fast ./encode-video/preset/HouseBurn_fast.mp4\n",
      "./ffmpeg -i ./source-video/HouseBurn.y4m -c:v libx265 -preset faster ./encode-video/preset/HouseBurn_faster.mp4\n",
      "./ffmpeg -i ./source-video/HouseBurn.y4m -c:v libx265 -preset superfast ./encode-video/preset/HouseBurn_superfast.mp4\n",
      "./ffmpeg -i ./source-video/HouseBurn.y4m -c:v libx265 -preset ultrafast ./encode-video/preset/HouseBurn_ultrafast.mp4\n"
     ]
    }
   ],
   "source": [
    "source_video = os.listdir('./source-video')\n",
    "\n",
    "for file in source_video:\n",
    "    for preset in preset_set:\n",
    "        encoder_preset(file, preset)"
   ]
  },
  {
   "cell_type": "code",
   "execution_count": 4,
   "metadata": {},
   "outputs": [],
   "source": [
    "def getVmaf_para(source_video_file, para_file,preset):\n",
    "    filename,fileext = os.path.splitext(source_video_file)\n",
    "    #./ffmpeg -i ./encode-video/libx264/bus_cif_libx264.mp4 -i ./source-video/bus_cif.y4m -lavfi libvmaf=\"model_path=./model/vmaf_v0.6.1.pkl: psnr=1:ms_ssim=1:ssim=1:log_fmt=json:log_path= ./vmaf/bus_cif_libx264_vmaf.json\" -f null -\n",
    "    command_vmaf = './ffmpeg -i ./encode-video/'+ para_file +'/'+ filename + '_' + preset +'.mp4' +' -i ./source-video/' + source_video_file + ' -lavfi libvmaf=\"model_path=./model/vmaf_v0.6.1.pkl: psnr=1:ms_ssim=1:ssim=1:log_fmt=json:log_path= ./vmaf/' + filename + '_' + preset + '_vmaf.json\" -f null -'\n",
    "    \n",
    "    #./ffprobe -v quiet -print_format json -show_format ./encode-video/libx264/bus_cif_libx264.mp4 >> ./video-format/bus_cif_libx264_format.json\n",
    "    command_format = './ffprobe -v quiet -print_format json -show_format ./encode-video/' + para_file + '/' + filename + '_' + preset + '.mp4 >> ./video-format/'+ filename + '_' + preset +'_format.json'\n",
    "    \n",
    "    print(command_vmaf)\n",
    "    print(command_format)\n",
    "    os.system(command_vmaf)\n",
    "    os.system(command_format)\n",
    "    "
   ]
  },
  {
   "cell_type": "code",
   "execution_count": 4,
   "metadata": {},
   "outputs": [],
   "source": [
    "# getVmaf_para('HouseBurn.y4m','preset','slow')"
   ]
  },
  {
   "cell_type": "code",
   "execution_count": 10,
   "metadata": {},
   "outputs": [
    {
     "name": "stdout",
     "output_type": "stream",
     "text": [
      "./ffmpeg -i ./encode-video/preset/LakeDuck_slower.mp4 -i ./source-video/LakeDuck.y4m -lavfi libvmaf=\"model_path=./model/vmaf_v0.6.1.pkl: psnr=1:ms_ssim=1:ssim=1:log_fmt=json:log_path= ./vmaf/LakeDuck_slower_vmaf.json\" -f null -\n",
      "./ffprobe -v quiet -print_format json -show_format ./encode-video/preset/LakeDuck_slower.mp4 >> ./video-format/LakeDuck_slower_format.json\n",
      "./ffmpeg -i ./encode-video/preset/LakeDuck_medium.mp4 -i ./source-video/LakeDuck.y4m -lavfi libvmaf=\"model_path=./model/vmaf_v0.6.1.pkl: psnr=1:ms_ssim=1:ssim=1:log_fmt=json:log_path= ./vmaf/LakeDuck_medium_vmaf.json\" -f null -\n",
      "./ffprobe -v quiet -print_format json -show_format ./encode-video/preset/LakeDuck_medium.mp4 >> ./video-format/LakeDuck_medium_format.json\n",
      "./ffmpeg -i ./encode-video/preset/LakeDuck_fast.mp4 -i ./source-video/LakeDuck.y4m -lavfi libvmaf=\"model_path=./model/vmaf_v0.6.1.pkl: psnr=1:ms_ssim=1:ssim=1:log_fmt=json:log_path= ./vmaf/LakeDuck_fast_vmaf.json\" -f null -\n",
      "./ffprobe -v quiet -print_format json -show_format ./encode-video/preset/LakeDuck_fast.mp4 >> ./video-format/LakeDuck_fast_format.json\n",
      "./ffmpeg -i ./encode-video/preset/LakeDuck_faster.mp4 -i ./source-video/LakeDuck.y4m -lavfi libvmaf=\"model_path=./model/vmaf_v0.6.1.pkl: psnr=1:ms_ssim=1:ssim=1:log_fmt=json:log_path= ./vmaf/LakeDuck_faster_vmaf.json\" -f null -\n",
      "./ffprobe -v quiet -print_format json -show_format ./encode-video/preset/LakeDuck_faster.mp4 >> ./video-format/LakeDuck_faster_format.json\n",
      "./ffmpeg -i ./encode-video/preset/LakeDuck_superfast.mp4 -i ./source-video/LakeDuck.y4m -lavfi libvmaf=\"model_path=./model/vmaf_v0.6.1.pkl: psnr=1:ms_ssim=1:ssim=1:log_fmt=json:log_path= ./vmaf/LakeDuck_superfast_vmaf.json\" -f null -\n",
      "./ffprobe -v quiet -print_format json -show_format ./encode-video/preset/LakeDuck_superfast.mp4 >> ./video-format/LakeDuck_superfast_format.json\n",
      "./ffmpeg -i ./encode-video/preset/LakeDuck_ultrafast.mp4 -i ./source-video/LakeDuck.y4m -lavfi libvmaf=\"model_path=./model/vmaf_v0.6.1.pkl: psnr=1:ms_ssim=1:ssim=1:log_fmt=json:log_path= ./vmaf/LakeDuck_ultrafast_vmaf.json\" -f null -\n",
      "./ffprobe -v quiet -print_format json -show_format ./encode-video/preset/LakeDuck_ultrafast.mp4 >> ./video-format/LakeDuck_ultrafast_format.json\n",
      "./ffmpeg -i ./encode-video/preset/ParkJoy_slower.mp4 -i ./source-video/ParkJoy.y4m -lavfi libvmaf=\"model_path=./model/vmaf_v0.6.1.pkl: psnr=1:ms_ssim=1:ssim=1:log_fmt=json:log_path= ./vmaf/ParkJoy_slower_vmaf.json\" -f null -\n",
      "./ffprobe -v quiet -print_format json -show_format ./encode-video/preset/ParkJoy_slower.mp4 >> ./video-format/ParkJoy_slower_format.json\n",
      "./ffmpeg -i ./encode-video/preset/ParkJoy_medium.mp4 -i ./source-video/ParkJoy.y4m -lavfi libvmaf=\"model_path=./model/vmaf_v0.6.1.pkl: psnr=1:ms_ssim=1:ssim=1:log_fmt=json:log_path= ./vmaf/ParkJoy_medium_vmaf.json\" -f null -\n",
      "./ffprobe -v quiet -print_format json -show_format ./encode-video/preset/ParkJoy_medium.mp4 >> ./video-format/ParkJoy_medium_format.json\n",
      "./ffmpeg -i ./encode-video/preset/ParkJoy_fast.mp4 -i ./source-video/ParkJoy.y4m -lavfi libvmaf=\"model_path=./model/vmaf_v0.6.1.pkl: psnr=1:ms_ssim=1:ssim=1:log_fmt=json:log_path= ./vmaf/ParkJoy_fast_vmaf.json\" -f null -\n",
      "./ffprobe -v quiet -print_format json -show_format ./encode-video/preset/ParkJoy_fast.mp4 >> ./video-format/ParkJoy_fast_format.json\n",
      "./ffmpeg -i ./encode-video/preset/ParkJoy_faster.mp4 -i ./source-video/ParkJoy.y4m -lavfi libvmaf=\"model_path=./model/vmaf_v0.6.1.pkl: psnr=1:ms_ssim=1:ssim=1:log_fmt=json:log_path= ./vmaf/ParkJoy_faster_vmaf.json\" -f null -\n",
      "./ffprobe -v quiet -print_format json -show_format ./encode-video/preset/ParkJoy_faster.mp4 >> ./video-format/ParkJoy_faster_format.json\n",
      "./ffmpeg -i ./encode-video/preset/ParkJoy_superfast.mp4 -i ./source-video/ParkJoy.y4m -lavfi libvmaf=\"model_path=./model/vmaf_v0.6.1.pkl: psnr=1:ms_ssim=1:ssim=1:log_fmt=json:log_path= ./vmaf/ParkJoy_superfast_vmaf.json\" -f null -\n",
      "./ffprobe -v quiet -print_format json -show_format ./encode-video/preset/ParkJoy_superfast.mp4 >> ./video-format/ParkJoy_superfast_format.json\n",
      "./ffmpeg -i ./encode-video/preset/ParkJoy_ultrafast.mp4 -i ./source-video/ParkJoy.y4m -lavfi libvmaf=\"model_path=./model/vmaf_v0.6.1.pkl: psnr=1:ms_ssim=1:ssim=1:log_fmt=json:log_path= ./vmaf/ParkJoy_ultrafast_vmaf.json\" -f null -\n",
      "./ffprobe -v quiet -print_format json -show_format ./encode-video/preset/ParkJoy_ultrafast.mp4 >> ./video-format/ParkJoy_ultrafast_format.json\n",
      "./ffmpeg -i ./encode-video/preset/CSGO_slower.mp4 -i ./source-video/CSGO.y4m -lavfi libvmaf=\"model_path=./model/vmaf_v0.6.1.pkl: psnr=1:ms_ssim=1:ssim=1:log_fmt=json:log_path= ./vmaf/CSGO_slower_vmaf.json\" -f null -\n",
      "./ffprobe -v quiet -print_format json -show_format ./encode-video/preset/CSGO_slower.mp4 >> ./video-format/CSGO_slower_format.json\n",
      "./ffmpeg -i ./encode-video/preset/CSGO_medium.mp4 -i ./source-video/CSGO.y4m -lavfi libvmaf=\"model_path=./model/vmaf_v0.6.1.pkl: psnr=1:ms_ssim=1:ssim=1:log_fmt=json:log_path= ./vmaf/CSGO_medium_vmaf.json\" -f null -\n",
      "./ffprobe -v quiet -print_format json -show_format ./encode-video/preset/CSGO_medium.mp4 >> ./video-format/CSGO_medium_format.json\n",
      "./ffmpeg -i ./encode-video/preset/CSGO_fast.mp4 -i ./source-video/CSGO.y4m -lavfi libvmaf=\"model_path=./model/vmaf_v0.6.1.pkl: psnr=1:ms_ssim=1:ssim=1:log_fmt=json:log_path= ./vmaf/CSGO_fast_vmaf.json\" -f null -\n",
      "./ffprobe -v quiet -print_format json -show_format ./encode-video/preset/CSGO_fast.mp4 >> ./video-format/CSGO_fast_format.json\n",
      "./ffmpeg -i ./encode-video/preset/CSGO_faster.mp4 -i ./source-video/CSGO.y4m -lavfi libvmaf=\"model_path=./model/vmaf_v0.6.1.pkl: psnr=1:ms_ssim=1:ssim=1:log_fmt=json:log_path= ./vmaf/CSGO_faster_vmaf.json\" -f null -\n",
      "./ffprobe -v quiet -print_format json -show_format ./encode-video/preset/CSGO_faster.mp4 >> ./video-format/CSGO_faster_format.json\n",
      "./ffmpeg -i ./encode-video/preset/CSGO_superfast.mp4 -i ./source-video/CSGO.y4m -lavfi libvmaf=\"model_path=./model/vmaf_v0.6.1.pkl: psnr=1:ms_ssim=1:ssim=1:log_fmt=json:log_path= ./vmaf/CSGO_superfast_vmaf.json\" -f null -\n",
      "./ffprobe -v quiet -print_format json -show_format ./encode-video/preset/CSGO_superfast.mp4 >> ./video-format/CSGO_superfast_format.json\n",
      "./ffmpeg -i ./encode-video/preset/CSGO_ultrafast.mp4 -i ./source-video/CSGO.y4m -lavfi libvmaf=\"model_path=./model/vmaf_v0.6.1.pkl: psnr=1:ms_ssim=1:ssim=1:log_fmt=json:log_path= ./vmaf/CSGO_ultrafast_vmaf.json\" -f null -\n",
      "./ffprobe -v quiet -print_format json -show_format ./encode-video/preset/CSGO_ultrafast.mp4 >> ./video-format/CSGO_ultrafast_format.json\n",
      "./ffmpeg -i ./encode-video/preset/WestWind_slower.mp4 -i ./source-video/WestWind.y4m -lavfi libvmaf=\"model_path=./model/vmaf_v0.6.1.pkl: psnr=1:ms_ssim=1:ssim=1:log_fmt=json:log_path= ./vmaf/WestWind_slower_vmaf.json\" -f null -\n",
      "./ffprobe -v quiet -print_format json -show_format ./encode-video/preset/WestWind_slower.mp4 >> ./video-format/WestWind_slower_format.json\n",
      "./ffmpeg -i ./encode-video/preset/WestWind_medium.mp4 -i ./source-video/WestWind.y4m -lavfi libvmaf=\"model_path=./model/vmaf_v0.6.1.pkl: psnr=1:ms_ssim=1:ssim=1:log_fmt=json:log_path= ./vmaf/WestWind_medium_vmaf.json\" -f null -\n",
      "./ffprobe -v quiet -print_format json -show_format ./encode-video/preset/WestWind_medium.mp4 >> ./video-format/WestWind_medium_format.json\n",
      "./ffmpeg -i ./encode-video/preset/WestWind_fast.mp4 -i ./source-video/WestWind.y4m -lavfi libvmaf=\"model_path=./model/vmaf_v0.6.1.pkl: psnr=1:ms_ssim=1:ssim=1:log_fmt=json:log_path= ./vmaf/WestWind_fast_vmaf.json\" -f null -\n",
      "./ffprobe -v quiet -print_format json -show_format ./encode-video/preset/WestWind_fast.mp4 >> ./video-format/WestWind_fast_format.json\n",
      "./ffmpeg -i ./encode-video/preset/WestWind_faster.mp4 -i ./source-video/WestWind.y4m -lavfi libvmaf=\"model_path=./model/vmaf_v0.6.1.pkl: psnr=1:ms_ssim=1:ssim=1:log_fmt=json:log_path= ./vmaf/WestWind_faster_vmaf.json\" -f null -\n",
      "./ffprobe -v quiet -print_format json -show_format ./encode-video/preset/WestWind_faster.mp4 >> ./video-format/WestWind_faster_format.json\n",
      "./ffmpeg -i ./encode-video/preset/WestWind_superfast.mp4 -i ./source-video/WestWind.y4m -lavfi libvmaf=\"model_path=./model/vmaf_v0.6.1.pkl: psnr=1:ms_ssim=1:ssim=1:log_fmt=json:log_path= ./vmaf/WestWind_superfast_vmaf.json\" -f null -\n",
      "./ffprobe -v quiet -print_format json -show_format ./encode-video/preset/WestWind_superfast.mp4 >> ./video-format/WestWind_superfast_format.json\n"
     ]
    },
    {
     "name": "stdout",
     "output_type": "stream",
     "text": [
      "./ffmpeg -i ./encode-video/preset/WestWind_ultrafast.mp4 -i ./source-video/WestWind.y4m -lavfi libvmaf=\"model_path=./model/vmaf_v0.6.1.pkl: psnr=1:ms_ssim=1:ssim=1:log_fmt=json:log_path= ./vmaf/WestWind_ultrafast_vmaf.json\" -f null -\n",
      "./ffprobe -v quiet -print_format json -show_format ./encode-video/preset/WestWind_ultrafast.mp4 >> ./video-format/WestWind_ultrafast_format.json\n",
      "./ffmpeg -i ./encode-video/preset/HouseBurn_slower.mp4 -i ./source-video/HouseBurn.y4m -lavfi libvmaf=\"model_path=./model/vmaf_v0.6.1.pkl: psnr=1:ms_ssim=1:ssim=1:log_fmt=json:log_path= ./vmaf/HouseBurn_slower_vmaf.json\" -f null -\n",
      "./ffprobe -v quiet -print_format json -show_format ./encode-video/preset/HouseBurn_slower.mp4 >> ./video-format/HouseBurn_slower_format.json\n",
      "./ffmpeg -i ./encode-video/preset/HouseBurn_medium.mp4 -i ./source-video/HouseBurn.y4m -lavfi libvmaf=\"model_path=./model/vmaf_v0.6.1.pkl: psnr=1:ms_ssim=1:ssim=1:log_fmt=json:log_path= ./vmaf/HouseBurn_medium_vmaf.json\" -f null -\n",
      "./ffprobe -v quiet -print_format json -show_format ./encode-video/preset/HouseBurn_medium.mp4 >> ./video-format/HouseBurn_medium_format.json\n",
      "./ffmpeg -i ./encode-video/preset/HouseBurn_fast.mp4 -i ./source-video/HouseBurn.y4m -lavfi libvmaf=\"model_path=./model/vmaf_v0.6.1.pkl: psnr=1:ms_ssim=1:ssim=1:log_fmt=json:log_path= ./vmaf/HouseBurn_fast_vmaf.json\" -f null -\n",
      "./ffprobe -v quiet -print_format json -show_format ./encode-video/preset/HouseBurn_fast.mp4 >> ./video-format/HouseBurn_fast_format.json\n",
      "./ffmpeg -i ./encode-video/preset/HouseBurn_faster.mp4 -i ./source-video/HouseBurn.y4m -lavfi libvmaf=\"model_path=./model/vmaf_v0.6.1.pkl: psnr=1:ms_ssim=1:ssim=1:log_fmt=json:log_path= ./vmaf/HouseBurn_faster_vmaf.json\" -f null -\n",
      "./ffprobe -v quiet -print_format json -show_format ./encode-video/preset/HouseBurn_faster.mp4 >> ./video-format/HouseBurn_faster_format.json\n",
      "./ffmpeg -i ./encode-video/preset/HouseBurn_superfast.mp4 -i ./source-video/HouseBurn.y4m -lavfi libvmaf=\"model_path=./model/vmaf_v0.6.1.pkl: psnr=1:ms_ssim=1:ssim=1:log_fmt=json:log_path= ./vmaf/HouseBurn_superfast_vmaf.json\" -f null -\n",
      "./ffprobe -v quiet -print_format json -show_format ./encode-video/preset/HouseBurn_superfast.mp4 >> ./video-format/HouseBurn_superfast_format.json\n",
      "./ffmpeg -i ./encode-video/preset/HouseBurn_ultrafast.mp4 -i ./source-video/HouseBurn.y4m -lavfi libvmaf=\"model_path=./model/vmaf_v0.6.1.pkl: psnr=1:ms_ssim=1:ssim=1:log_fmt=json:log_path= ./vmaf/HouseBurn_ultrafast_vmaf.json\" -f null -\n",
      "./ffprobe -v quiet -print_format json -show_format ./encode-video/preset/HouseBurn_ultrafast.mp4 >> ./video-format/HouseBurn_ultrafast_format.json\n"
     ]
    }
   ],
   "source": [
    "source_video = os.listdir('./source-video')\n",
    "\n",
    "for file in source_video:\n",
    "    for preset in preset_set:\n",
    "        getVmaf_para(file,'preset', preset)"
   ]
  },
  {
   "cell_type": "markdown",
   "metadata": {},
   "source": [
    "# 3 Comparison of QP & MTU"
   ]
  },
  {
   "cell_type": "code",
   "execution_count": 2,
   "metadata": {},
   "outputs": [],
   "source": [
    "def encoder_params(source_video_file,params,params_value):\n",
    "    filename,fileext = os.path.splitext(source_video_file)\n",
    "    #./ffmpeg -i ./source-video/bus_cif.y4m -c:v libx265 -x265-params \"ctu=16:qp=0\" test_16qp.mp4;  \n",
    "    input_command = './ffmpeg -i ./source-video/'\n",
    "    output_directory = ' ./encode-video/'+ params\n",
    "    output_filename = '/' + filename + '_' +params_value+ '.mp4'\n",
    "    command = input_command + source_video_file + ' -c:v ' + 'libx265' + ' -x265-params ' + '\\\"' + params_value + '\\\"'+ output_directory + output_filename\n",
    "    print(command)\n",
    "    os.system(command)\n",
    "    "
   ]
  },
  {
   "cell_type": "code",
   "execution_count": 3,
   "metadata": {},
   "outputs": [],
   "source": [
    "qp_set = ['qp=22','qp=27','qp=32','qp=37']"
   ]
  },
  {
   "cell_type": "code",
   "execution_count": 9,
   "metadata": {},
   "outputs": [
    {
     "name": "stdout",
     "output_type": "stream",
     "text": [
      "./ffmpeg -i ./source-video/LakeDuck.y4m -c:v libx265 -x265-params \"qp=22\" ./encode-video/qp/LakeDuck_qp=22.mp4\n",
      "./ffmpeg -i ./source-video/LakeDuck.y4m -c:v libx265 -x265-params \"qp=27\" ./encode-video/qp/LakeDuck_qp=27.mp4\n",
      "./ffmpeg -i ./source-video/LakeDuck.y4m -c:v libx265 -x265-params \"qp=32\" ./encode-video/qp/LakeDuck_qp=32.mp4\n",
      "./ffmpeg -i ./source-video/LakeDuck.y4m -c:v libx265 -x265-params \"qp=37\" ./encode-video/qp/LakeDuck_qp=37.mp4\n",
      "./ffmpeg -i ./source-video/ParkJoy.y4m -c:v libx265 -x265-params \"qp=22\" ./encode-video/qp/ParkJoy_qp=22.mp4\n",
      "./ffmpeg -i ./source-video/ParkJoy.y4m -c:v libx265 -x265-params \"qp=27\" ./encode-video/qp/ParkJoy_qp=27.mp4\n",
      "./ffmpeg -i ./source-video/ParkJoy.y4m -c:v libx265 -x265-params \"qp=32\" ./encode-video/qp/ParkJoy_qp=32.mp4\n",
      "./ffmpeg -i ./source-video/ParkJoy.y4m -c:v libx265 -x265-params \"qp=37\" ./encode-video/qp/ParkJoy_qp=37.mp4\n",
      "./ffmpeg -i ./source-video/CSGO.y4m -c:v libx265 -x265-params \"qp=22\" ./encode-video/qp/CSGO_qp=22.mp4\n",
      "./ffmpeg -i ./source-video/CSGO.y4m -c:v libx265 -x265-params \"qp=27\" ./encode-video/qp/CSGO_qp=27.mp4\n",
      "./ffmpeg -i ./source-video/CSGO.y4m -c:v libx265 -x265-params \"qp=32\" ./encode-video/qp/CSGO_qp=32.mp4\n",
      "./ffmpeg -i ./source-video/CSGO.y4m -c:v libx265 -x265-params \"qp=37\" ./encode-video/qp/CSGO_qp=37.mp4\n",
      "./ffmpeg -i ./source-video/WestWind.y4m -c:v libx265 -x265-params \"qp=22\" ./encode-video/qp/WestWind_qp=22.mp4\n",
      "./ffmpeg -i ./source-video/WestWind.y4m -c:v libx265 -x265-params \"qp=27\" ./encode-video/qp/WestWind_qp=27.mp4\n",
      "./ffmpeg -i ./source-video/WestWind.y4m -c:v libx265 -x265-params \"qp=32\" ./encode-video/qp/WestWind_qp=32.mp4\n",
      "./ffmpeg -i ./source-video/WestWind.y4m -c:v libx265 -x265-params \"qp=37\" ./encode-video/qp/WestWind_qp=37.mp4\n",
      "./ffmpeg -i ./source-video/HouseBurn.y4m -c:v libx265 -x265-params \"qp=22\" ./encode-video/qp/HouseBurn_qp=22.mp4\n",
      "./ffmpeg -i ./source-video/HouseBurn.y4m -c:v libx265 -x265-params \"qp=27\" ./encode-video/qp/HouseBurn_qp=27.mp4\n",
      "./ffmpeg -i ./source-video/HouseBurn.y4m -c:v libx265 -x265-params \"qp=32\" ./encode-video/qp/HouseBurn_qp=32.mp4\n",
      "./ffmpeg -i ./source-video/HouseBurn.y4m -c:v libx265 -x265-params \"qp=37\" ./encode-video/qp/HouseBurn_qp=37.mp4\n"
     ]
    }
   ],
   "source": [
    "source_video = os.listdir('./source-video')\n",
    "\n",
    "for file in source_video:\n",
    "    for qp in qp_set:\n",
    "        encoder_params(file,'qp',qp)"
   ]
  },
  {
   "cell_type": "code",
   "execution_count": 7,
   "metadata": {},
   "outputs": [],
   "source": [
    "mtu_set = ['max-tu-size=32','max-tu-size=16','max-tu-size=8','max-tu-size=4']"
   ]
  },
  {
   "cell_type": "code",
   "execution_count": 4,
   "metadata": {
    "scrolled": true
   },
   "outputs": [
    {
     "name": "stdout",
     "output_type": "stream",
     "text": [
      "./ffmpeg -i ./source-video/LakeDuck.y4m -c:v libx265 -x265-params \"max-tu-size=32\" ./encode-video/mtu/LakeDuck_max-tu-size=32.mp4\n",
      "./ffmpeg -i ./source-video/LakeDuck.y4m -c:v libx265 -x265-params \"max-tu-size=16\" ./encode-video/mtu/LakeDuck_max-tu-size=16.mp4\n",
      "./ffmpeg -i ./source-video/LakeDuck.y4m -c:v libx265 -x265-params \"max-tu-size=8\" ./encode-video/mtu/LakeDuck_max-tu-size=8.mp4\n",
      "./ffmpeg -i ./source-video/LakeDuck.y4m -c:v libx265 -x265-params \"max-tu-size=4\" ./encode-video/mtu/LakeDuck_max-tu-size=4.mp4\n",
      "./ffmpeg -i ./source-video/ParkJoy.y4m -c:v libx265 -x265-params \"max-tu-size=32\" ./encode-video/mtu/ParkJoy_max-tu-size=32.mp4\n",
      "./ffmpeg -i ./source-video/ParkJoy.y4m -c:v libx265 -x265-params \"max-tu-size=16\" ./encode-video/mtu/ParkJoy_max-tu-size=16.mp4\n",
      "./ffmpeg -i ./source-video/ParkJoy.y4m -c:v libx265 -x265-params \"max-tu-size=8\" ./encode-video/mtu/ParkJoy_max-tu-size=8.mp4\n",
      "./ffmpeg -i ./source-video/ParkJoy.y4m -c:v libx265 -x265-params \"max-tu-size=4\" ./encode-video/mtu/ParkJoy_max-tu-size=4.mp4\n",
      "./ffmpeg -i ./source-video/CSGO.y4m -c:v libx265 -x265-params \"max-tu-size=32\" ./encode-video/mtu/CSGO_max-tu-size=32.mp4\n",
      "./ffmpeg -i ./source-video/CSGO.y4m -c:v libx265 -x265-params \"max-tu-size=16\" ./encode-video/mtu/CSGO_max-tu-size=16.mp4\n",
      "./ffmpeg -i ./source-video/CSGO.y4m -c:v libx265 -x265-params \"max-tu-size=8\" ./encode-video/mtu/CSGO_max-tu-size=8.mp4\n",
      "./ffmpeg -i ./source-video/CSGO.y4m -c:v libx265 -x265-params \"max-tu-size=4\" ./encode-video/mtu/CSGO_max-tu-size=4.mp4\n",
      "./ffmpeg -i ./source-video/WestWind.y4m -c:v libx265 -x265-params \"max-tu-size=32\" ./encode-video/mtu/WestWind_max-tu-size=32.mp4\n",
      "./ffmpeg -i ./source-video/WestWind.y4m -c:v libx265 -x265-params \"max-tu-size=16\" ./encode-video/mtu/WestWind_max-tu-size=16.mp4\n",
      "./ffmpeg -i ./source-video/WestWind.y4m -c:v libx265 -x265-params \"max-tu-size=8\" ./encode-video/mtu/WestWind_max-tu-size=8.mp4\n",
      "./ffmpeg -i ./source-video/WestWind.y4m -c:v libx265 -x265-params \"max-tu-size=4\" ./encode-video/mtu/WestWind_max-tu-size=4.mp4\n",
      "./ffmpeg -i ./source-video/HouseBurn.y4m -c:v libx265 -x265-params \"max-tu-size=32\" ./encode-video/mtu/HouseBurn_max-tu-size=32.mp4\n",
      "./ffmpeg -i ./source-video/HouseBurn.y4m -c:v libx265 -x265-params \"max-tu-size=16\" ./encode-video/mtu/HouseBurn_max-tu-size=16.mp4\n",
      "./ffmpeg -i ./source-video/HouseBurn.y4m -c:v libx265 -x265-params \"max-tu-size=8\" ./encode-video/mtu/HouseBurn_max-tu-size=8.mp4\n",
      "./ffmpeg -i ./source-video/HouseBurn.y4m -c:v libx265 -x265-params \"max-tu-size=4\" ./encode-video/mtu/HouseBurn_max-tu-size=4.mp4\n"
     ]
    }
   ],
   "source": [
    "source_video = os.listdir('./source-video')\n",
    "\n",
    "for file in source_video:\n",
    "    for mtu in mtu_set:\n",
    "        encoder_params(file,'mtu',mtu)"
   ]
  },
  {
   "cell_type": "code",
   "execution_count": null,
   "metadata": {
    "scrolled": true
   },
   "outputs": [
    {
     "name": "stdout",
     "output_type": "stream",
     "text": [
      "./ffmpeg -i ./encode-video/qp/LakeDuck_qp=22.mp4 -i ./source-video/LakeDuck.y4m -lavfi libvmaf=\"model_path=./model/vmaf_v0.6.1.pkl: psnr=1:ms_ssim=1:ssim=1:log_fmt=json:log_path= ./vmaf/LakeDuck_qp=22_vmaf.json\" -f null -\n",
      "./ffprobe -v quiet -print_format json -show_format ./encode-video/qp/LakeDuck_qp=22.mp4 >> ./video-format/LakeDuck_qp=22_format.json\n",
      "./ffmpeg -i ./encode-video/qp/LakeDuck_qp=27.mp4 -i ./source-video/LakeDuck.y4m -lavfi libvmaf=\"model_path=./model/vmaf_v0.6.1.pkl: psnr=1:ms_ssim=1:ssim=1:log_fmt=json:log_path= ./vmaf/LakeDuck_qp=27_vmaf.json\" -f null -\n",
      "./ffprobe -v quiet -print_format json -show_format ./encode-video/qp/LakeDuck_qp=27.mp4 >> ./video-format/LakeDuck_qp=27_format.json\n",
      "./ffmpeg -i ./encode-video/qp/LakeDuck_qp=32.mp4 -i ./source-video/LakeDuck.y4m -lavfi libvmaf=\"model_path=./model/vmaf_v0.6.1.pkl: psnr=1:ms_ssim=1:ssim=1:log_fmt=json:log_path= ./vmaf/LakeDuck_qp=32_vmaf.json\" -f null -\n",
      "./ffprobe -v quiet -print_format json -show_format ./encode-video/qp/LakeDuck_qp=32.mp4 >> ./video-format/LakeDuck_qp=32_format.json\n",
      "./ffmpeg -i ./encode-video/qp/LakeDuck_qp=37.mp4 -i ./source-video/LakeDuck.y4m -lavfi libvmaf=\"model_path=./model/vmaf_v0.6.1.pkl: psnr=1:ms_ssim=1:ssim=1:log_fmt=json:log_path= ./vmaf/LakeDuck_qp=37_vmaf.json\" -f null -\n",
      "./ffprobe -v quiet -print_format json -show_format ./encode-video/qp/LakeDuck_qp=37.mp4 >> ./video-format/LakeDuck_qp=37_format.json\n",
      "./ffmpeg -i ./encode-video/qp/ParkJoy_qp=22.mp4 -i ./source-video/ParkJoy.y4m -lavfi libvmaf=\"model_path=./model/vmaf_v0.6.1.pkl: psnr=1:ms_ssim=1:ssim=1:log_fmt=json:log_path= ./vmaf/ParkJoy_qp=22_vmaf.json\" -f null -\n",
      "./ffprobe -v quiet -print_format json -show_format ./encode-video/qp/ParkJoy_qp=22.mp4 >> ./video-format/ParkJoy_qp=22_format.json\n",
      "./ffmpeg -i ./encode-video/qp/ParkJoy_qp=27.mp4 -i ./source-video/ParkJoy.y4m -lavfi libvmaf=\"model_path=./model/vmaf_v0.6.1.pkl: psnr=1:ms_ssim=1:ssim=1:log_fmt=json:log_path= ./vmaf/ParkJoy_qp=27_vmaf.json\" -f null -\n",
      "./ffprobe -v quiet -print_format json -show_format ./encode-video/qp/ParkJoy_qp=27.mp4 >> ./video-format/ParkJoy_qp=27_format.json\n",
      "./ffmpeg -i ./encode-video/qp/ParkJoy_qp=32.mp4 -i ./source-video/ParkJoy.y4m -lavfi libvmaf=\"model_path=./model/vmaf_v0.6.1.pkl: psnr=1:ms_ssim=1:ssim=1:log_fmt=json:log_path= ./vmaf/ParkJoy_qp=32_vmaf.json\" -f null -\n",
      "./ffprobe -v quiet -print_format json -show_format ./encode-video/qp/ParkJoy_qp=32.mp4 >> ./video-format/ParkJoy_qp=32_format.json\n",
      "./ffmpeg -i ./encode-video/qp/ParkJoy_qp=37.mp4 -i ./source-video/ParkJoy.y4m -lavfi libvmaf=\"model_path=./model/vmaf_v0.6.1.pkl: psnr=1:ms_ssim=1:ssim=1:log_fmt=json:log_path= ./vmaf/ParkJoy_qp=37_vmaf.json\" -f null -\n",
      "./ffprobe -v quiet -print_format json -show_format ./encode-video/qp/ParkJoy_qp=37.mp4 >> ./video-format/ParkJoy_qp=37_format.json\n",
      "./ffmpeg -i ./encode-video/qp/CSGO_qp=22.mp4 -i ./source-video/CSGO.y4m -lavfi libvmaf=\"model_path=./model/vmaf_v0.6.1.pkl: psnr=1:ms_ssim=1:ssim=1:log_fmt=json:log_path= ./vmaf/CSGO_qp=22_vmaf.json\" -f null -\n",
      "./ffprobe -v quiet -print_format json -show_format ./encode-video/qp/CSGO_qp=22.mp4 >> ./video-format/CSGO_qp=22_format.json\n",
      "./ffmpeg -i ./encode-video/qp/CSGO_qp=27.mp4 -i ./source-video/CSGO.y4m -lavfi libvmaf=\"model_path=./model/vmaf_v0.6.1.pkl: psnr=1:ms_ssim=1:ssim=1:log_fmt=json:log_path= ./vmaf/CSGO_qp=27_vmaf.json\" -f null -\n",
      "./ffprobe -v quiet -print_format json -show_format ./encode-video/qp/CSGO_qp=27.mp4 >> ./video-format/CSGO_qp=27_format.json\n",
      "./ffmpeg -i ./encode-video/qp/CSGO_qp=32.mp4 -i ./source-video/CSGO.y4m -lavfi libvmaf=\"model_path=./model/vmaf_v0.6.1.pkl: psnr=1:ms_ssim=1:ssim=1:log_fmt=json:log_path= ./vmaf/CSGO_qp=32_vmaf.json\" -f null -\n",
      "./ffprobe -v quiet -print_format json -show_format ./encode-video/qp/CSGO_qp=32.mp4 >> ./video-format/CSGO_qp=32_format.json\n",
      "./ffmpeg -i ./encode-video/qp/CSGO_qp=37.mp4 -i ./source-video/CSGO.y4m -lavfi libvmaf=\"model_path=./model/vmaf_v0.6.1.pkl: psnr=1:ms_ssim=1:ssim=1:log_fmt=json:log_path= ./vmaf/CSGO_qp=37_vmaf.json\" -f null -\n",
      "./ffprobe -v quiet -print_format json -show_format ./encode-video/qp/CSGO_qp=37.mp4 >> ./video-format/CSGO_qp=37_format.json\n",
      "./ffmpeg -i ./encode-video/qp/WestWind_qp=22.mp4 -i ./source-video/WestWind.y4m -lavfi libvmaf=\"model_path=./model/vmaf_v0.6.1.pkl: psnr=1:ms_ssim=1:ssim=1:log_fmt=json:log_path= ./vmaf/WestWind_qp=22_vmaf.json\" -f null -\n",
      "./ffprobe -v quiet -print_format json -show_format ./encode-video/qp/WestWind_qp=22.mp4 >> ./video-format/WestWind_qp=22_format.json\n",
      "./ffmpeg -i ./encode-video/qp/WestWind_qp=27.mp4 -i ./source-video/WestWind.y4m -lavfi libvmaf=\"model_path=./model/vmaf_v0.6.1.pkl: psnr=1:ms_ssim=1:ssim=1:log_fmt=json:log_path= ./vmaf/WestWind_qp=27_vmaf.json\" -f null -\n",
      "./ffprobe -v quiet -print_format json -show_format ./encode-video/qp/WestWind_qp=27.mp4 >> ./video-format/WestWind_qp=27_format.json\n",
      "./ffmpeg -i ./encode-video/qp/WestWind_qp=32.mp4 -i ./source-video/WestWind.y4m -lavfi libvmaf=\"model_path=./model/vmaf_v0.6.1.pkl: psnr=1:ms_ssim=1:ssim=1:log_fmt=json:log_path= ./vmaf/WestWind_qp=32_vmaf.json\" -f null -\n",
      "./ffprobe -v quiet -print_format json -show_format ./encode-video/qp/WestWind_qp=32.mp4 >> ./video-format/WestWind_qp=32_format.json\n"
     ]
    }
   ],
   "source": [
    "source_video = os.listdir('./source-video')\n",
    "\n",
    "for file in source_video:\n",
    "    for qp in qp_set:\n",
    "        getVmaf_para(file,'qp', qp)"
   ]
  },
  {
   "cell_type": "code",
   "execution_count": 8,
   "metadata": {},
   "outputs": [
    {
     "name": "stdout",
     "output_type": "stream",
     "text": [
      "./ffmpeg -i ./encode-video/mtu/LakeDuck_max-tu-size=32.mp4 -i ./source-video/LakeDuck.y4m -lavfi libvmaf=\"model_path=./model/vmaf_v0.6.1.pkl: psnr=1:ms_ssim=1:ssim=1:log_fmt=json:log_path= ./vmaf/LakeDuck_max-tu-size=32_vmaf.json\" -f null -\n",
      "./ffprobe -v quiet -print_format json -show_format ./encode-video/mtu/LakeDuck_max-tu-size=32.mp4 >> ./video-format/LakeDuck_max-tu-size=32_format.json\n",
      "./ffmpeg -i ./encode-video/mtu/LakeDuck_max-tu-size=16.mp4 -i ./source-video/LakeDuck.y4m -lavfi libvmaf=\"model_path=./model/vmaf_v0.6.1.pkl: psnr=1:ms_ssim=1:ssim=1:log_fmt=json:log_path= ./vmaf/LakeDuck_max-tu-size=16_vmaf.json\" -f null -\n",
      "./ffprobe -v quiet -print_format json -show_format ./encode-video/mtu/LakeDuck_max-tu-size=16.mp4 >> ./video-format/LakeDuck_max-tu-size=16_format.json\n",
      "./ffmpeg -i ./encode-video/mtu/LakeDuck_max-tu-size=8.mp4 -i ./source-video/LakeDuck.y4m -lavfi libvmaf=\"model_path=./model/vmaf_v0.6.1.pkl: psnr=1:ms_ssim=1:ssim=1:log_fmt=json:log_path= ./vmaf/LakeDuck_max-tu-size=8_vmaf.json\" -f null -\n",
      "./ffprobe -v quiet -print_format json -show_format ./encode-video/mtu/LakeDuck_max-tu-size=8.mp4 >> ./video-format/LakeDuck_max-tu-size=8_format.json\n",
      "./ffmpeg -i ./encode-video/mtu/LakeDuck_max-tu-size=4.mp4 -i ./source-video/LakeDuck.y4m -lavfi libvmaf=\"model_path=./model/vmaf_v0.6.1.pkl: psnr=1:ms_ssim=1:ssim=1:log_fmt=json:log_path= ./vmaf/LakeDuck_max-tu-size=4_vmaf.json\" -f null -\n",
      "./ffprobe -v quiet -print_format json -show_format ./encode-video/mtu/LakeDuck_max-tu-size=4.mp4 >> ./video-format/LakeDuck_max-tu-size=4_format.json\n",
      "./ffmpeg -i ./encode-video/mtu/ParkJoy_max-tu-size=32.mp4 -i ./source-video/ParkJoy.y4m -lavfi libvmaf=\"model_path=./model/vmaf_v0.6.1.pkl: psnr=1:ms_ssim=1:ssim=1:log_fmt=json:log_path= ./vmaf/ParkJoy_max-tu-size=32_vmaf.json\" -f null -\n",
      "./ffprobe -v quiet -print_format json -show_format ./encode-video/mtu/ParkJoy_max-tu-size=32.mp4 >> ./video-format/ParkJoy_max-tu-size=32_format.json\n",
      "./ffmpeg -i ./encode-video/mtu/ParkJoy_max-tu-size=16.mp4 -i ./source-video/ParkJoy.y4m -lavfi libvmaf=\"model_path=./model/vmaf_v0.6.1.pkl: psnr=1:ms_ssim=1:ssim=1:log_fmt=json:log_path= ./vmaf/ParkJoy_max-tu-size=16_vmaf.json\" -f null -\n",
      "./ffprobe -v quiet -print_format json -show_format ./encode-video/mtu/ParkJoy_max-tu-size=16.mp4 >> ./video-format/ParkJoy_max-tu-size=16_format.json\n",
      "./ffmpeg -i ./encode-video/mtu/ParkJoy_max-tu-size=8.mp4 -i ./source-video/ParkJoy.y4m -lavfi libvmaf=\"model_path=./model/vmaf_v0.6.1.pkl: psnr=1:ms_ssim=1:ssim=1:log_fmt=json:log_path= ./vmaf/ParkJoy_max-tu-size=8_vmaf.json\" -f null -\n",
      "./ffprobe -v quiet -print_format json -show_format ./encode-video/mtu/ParkJoy_max-tu-size=8.mp4 >> ./video-format/ParkJoy_max-tu-size=8_format.json\n",
      "./ffmpeg -i ./encode-video/mtu/ParkJoy_max-tu-size=4.mp4 -i ./source-video/ParkJoy.y4m -lavfi libvmaf=\"model_path=./model/vmaf_v0.6.1.pkl: psnr=1:ms_ssim=1:ssim=1:log_fmt=json:log_path= ./vmaf/ParkJoy_max-tu-size=4_vmaf.json\" -f null -\n",
      "./ffprobe -v quiet -print_format json -show_format ./encode-video/mtu/ParkJoy_max-tu-size=4.mp4 >> ./video-format/ParkJoy_max-tu-size=4_format.json\n",
      "./ffmpeg -i ./encode-video/mtu/CSGO_max-tu-size=32.mp4 -i ./source-video/CSGO.y4m -lavfi libvmaf=\"model_path=./model/vmaf_v0.6.1.pkl: psnr=1:ms_ssim=1:ssim=1:log_fmt=json:log_path= ./vmaf/CSGO_max-tu-size=32_vmaf.json\" -f null -\n",
      "./ffprobe -v quiet -print_format json -show_format ./encode-video/mtu/CSGO_max-tu-size=32.mp4 >> ./video-format/CSGO_max-tu-size=32_format.json\n",
      "./ffmpeg -i ./encode-video/mtu/CSGO_max-tu-size=16.mp4 -i ./source-video/CSGO.y4m -lavfi libvmaf=\"model_path=./model/vmaf_v0.6.1.pkl: psnr=1:ms_ssim=1:ssim=1:log_fmt=json:log_path= ./vmaf/CSGO_max-tu-size=16_vmaf.json\" -f null -\n",
      "./ffprobe -v quiet -print_format json -show_format ./encode-video/mtu/CSGO_max-tu-size=16.mp4 >> ./video-format/CSGO_max-tu-size=16_format.json\n",
      "./ffmpeg -i ./encode-video/mtu/CSGO_max-tu-size=8.mp4 -i ./source-video/CSGO.y4m -lavfi libvmaf=\"model_path=./model/vmaf_v0.6.1.pkl: psnr=1:ms_ssim=1:ssim=1:log_fmt=json:log_path= ./vmaf/CSGO_max-tu-size=8_vmaf.json\" -f null -\n",
      "./ffprobe -v quiet -print_format json -show_format ./encode-video/mtu/CSGO_max-tu-size=8.mp4 >> ./video-format/CSGO_max-tu-size=8_format.json\n",
      "./ffmpeg -i ./encode-video/mtu/CSGO_max-tu-size=4.mp4 -i ./source-video/CSGO.y4m -lavfi libvmaf=\"model_path=./model/vmaf_v0.6.1.pkl: psnr=1:ms_ssim=1:ssim=1:log_fmt=json:log_path= ./vmaf/CSGO_max-tu-size=4_vmaf.json\" -f null -\n",
      "./ffprobe -v quiet -print_format json -show_format ./encode-video/mtu/CSGO_max-tu-size=4.mp4 >> ./video-format/CSGO_max-tu-size=4_format.json\n",
      "./ffmpeg -i ./encode-video/mtu/WestWind_max-tu-size=32.mp4 -i ./source-video/WestWind.y4m -lavfi libvmaf=\"model_path=./model/vmaf_v0.6.1.pkl: psnr=1:ms_ssim=1:ssim=1:log_fmt=json:log_path= ./vmaf/WestWind_max-tu-size=32_vmaf.json\" -f null -\n",
      "./ffprobe -v quiet -print_format json -show_format ./encode-video/mtu/WestWind_max-tu-size=32.mp4 >> ./video-format/WestWind_max-tu-size=32_format.json\n",
      "./ffmpeg -i ./encode-video/mtu/WestWind_max-tu-size=16.mp4 -i ./source-video/WestWind.y4m -lavfi libvmaf=\"model_path=./model/vmaf_v0.6.1.pkl: psnr=1:ms_ssim=1:ssim=1:log_fmt=json:log_path= ./vmaf/WestWind_max-tu-size=16_vmaf.json\" -f null -\n",
      "./ffprobe -v quiet -print_format json -show_format ./encode-video/mtu/WestWind_max-tu-size=16.mp4 >> ./video-format/WestWind_max-tu-size=16_format.json\n",
      "./ffmpeg -i ./encode-video/mtu/WestWind_max-tu-size=8.mp4 -i ./source-video/WestWind.y4m -lavfi libvmaf=\"model_path=./model/vmaf_v0.6.1.pkl: psnr=1:ms_ssim=1:ssim=1:log_fmt=json:log_path= ./vmaf/WestWind_max-tu-size=8_vmaf.json\" -f null -\n",
      "./ffprobe -v quiet -print_format json -show_format ./encode-video/mtu/WestWind_max-tu-size=8.mp4 >> ./video-format/WestWind_max-tu-size=8_format.json\n",
      "./ffmpeg -i ./encode-video/mtu/WestWind_max-tu-size=4.mp4 -i ./source-video/WestWind.y4m -lavfi libvmaf=\"model_path=./model/vmaf_v0.6.1.pkl: psnr=1:ms_ssim=1:ssim=1:log_fmt=json:log_path= ./vmaf/WestWind_max-tu-size=4_vmaf.json\" -f null -\n",
      "./ffprobe -v quiet -print_format json -show_format ./encode-video/mtu/WestWind_max-tu-size=4.mp4 >> ./video-format/WestWind_max-tu-size=4_format.json\n",
      "./ffmpeg -i ./encode-video/mtu/HouseBurn_max-tu-size=32.mp4 -i ./source-video/HouseBurn.y4m -lavfi libvmaf=\"model_path=./model/vmaf_v0.6.1.pkl: psnr=1:ms_ssim=1:ssim=1:log_fmt=json:log_path= ./vmaf/HouseBurn_max-tu-size=32_vmaf.json\" -f null -\n",
      "./ffprobe -v quiet -print_format json -show_format ./encode-video/mtu/HouseBurn_max-tu-size=32.mp4 >> ./video-format/HouseBurn_max-tu-size=32_format.json\n",
      "./ffmpeg -i ./encode-video/mtu/HouseBurn_max-tu-size=16.mp4 -i ./source-video/HouseBurn.y4m -lavfi libvmaf=\"model_path=./model/vmaf_v0.6.1.pkl: psnr=1:ms_ssim=1:ssim=1:log_fmt=json:log_path= ./vmaf/HouseBurn_max-tu-size=16_vmaf.json\" -f null -\n",
      "./ffprobe -v quiet -print_format json -show_format ./encode-video/mtu/HouseBurn_max-tu-size=16.mp4 >> ./video-format/HouseBurn_max-tu-size=16_format.json\n",
      "./ffmpeg -i ./encode-video/mtu/HouseBurn_max-tu-size=8.mp4 -i ./source-video/HouseBurn.y4m -lavfi libvmaf=\"model_path=./model/vmaf_v0.6.1.pkl: psnr=1:ms_ssim=1:ssim=1:log_fmt=json:log_path= ./vmaf/HouseBurn_max-tu-size=8_vmaf.json\" -f null -\n",
      "./ffprobe -v quiet -print_format json -show_format ./encode-video/mtu/HouseBurn_max-tu-size=8.mp4 >> ./video-format/HouseBurn_max-tu-size=8_format.json\n",
      "./ffmpeg -i ./encode-video/mtu/HouseBurn_max-tu-size=4.mp4 -i ./source-video/HouseBurn.y4m -lavfi libvmaf=\"model_path=./model/vmaf_v0.6.1.pkl: psnr=1:ms_ssim=1:ssim=1:log_fmt=json:log_path= ./vmaf/HouseBurn_max-tu-size=4_vmaf.json\" -f null -\n",
      "./ffprobe -v quiet -print_format json -show_format ./encode-video/mtu/HouseBurn_max-tu-size=4.mp4 >> ./video-format/HouseBurn_max-tu-size=4_format.json\n"
     ]
    }
   ],
   "source": [
    "source_video = os.listdir('./source-video')\n",
    "\n",
    "for file in source_video:\n",
    "    for mtu in mtu_set:\n",
    "        getVmaf_para(file,'mtu',mtu)"
   ]
  },
  {
   "cell_type": "code",
   "execution_count": 12,
   "metadata": {},
   "outputs": [],
   "source": [
    "def histogram(values, xlabel, ylabel, title):\n",
    "    plt.figure(figsize=(10, 10), dpi=80)\n",
    "\n",
    "    # 包含每个柱子对应值的序列\n",
    "   \n",
    "    N = len(values)\n",
    "    index = np.arange(N)\n",
    "    width = 0.45\n",
    "    p2 = plt.bar(index, values, width, label=\"num\", color=\"#87CEFA\")\n",
    "    plt.xlabel(xlabel)\n",
    "    plt.ylabel(ylabel)\n",
    "\n",
    "    plt.title(title)\n",
    "    # 添加纵横轴的刻度\n",
    "    plt.xticks(index, preset_set)\n",
    "    # plt.yticks(np.arange(0, 10000, 10))\n",
    "    # 添加图例\n",
    "    plt.show()"
   ]
  },
  {
   "cell_type": "code",
   "execution_count": 14,
   "metadata": {},
   "outputs": [
    {
     "data": {
      "image/png": "[encoded data removed]",
      "text/plain": [
       "<Figure size 800x800 with 1 Axes>"
      ]
     },
     "metadata": {
      "needs_background": "light"
     },
     "output_type": "display_data"
    }
   ],
   "source": [
    "# you can collect values from json file as above described\n",
    "#histogram((38.42,37.23,36.88,36.77,36.41,35.36),'preset','psnr','Comparison of result in different preset on WestWind')"
   ]
  },
  {
   "cell_type": "code",
   "execution_count": null,
   "metadata": {},
   "outputs": [],
   "source": []
  }
 ],
 "metadata": {
  "kernelspec": {
   "display_name": "Python 3",
   "language": "python",
   "name": "python3"
  },
  "language_info": {
   "codemirror_mode": {
    "name": "ipython",
    "version": 3
   },
   "file_extension": ".py",
   "mimetype": "text/x-python",
   "name": "python",
   "nbconvert_exporter": "python",
   "pygments_lexer": "ipython3",
   "version": "3.7.3"
  }
 },
 "nbformat": 4,
 "nbformat_minor": 2
}
